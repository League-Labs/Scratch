{
 "cells": [
  {
   "cell_type": "code",
   "execution_count": 1,
   "id": "7f97cb0c",
   "metadata": {},
   "outputs": [
    {
     "data": {
      "text/plain": [
       "['ad1tyad3sa1',\n",
       " 'whizoji',\n",
       " 'Alek1224',\n",
       " 'angeldiazsems',\n",
       " 'singhari',\n",
       " 'Pangw1n',\n",
       " 'cfredberg',\n",
       " 'DerenDesign',\n",
       " 'Finnsauce',\n",
       " 'gabrionorton98',\n",
       " 'monke7769',\n",
       " 'ishankhandekar',\n",
       " 'JamesQian123',\n",
       " 'jpanusopone',\n",
       " 'jayh80961',\n",
       " 'itjey',\n",
       " 'CookieDoughYum',\n",
       " 'therealkingcob4',\n",
       " 'PowerSpy',\n",
       " 'SophiaRosa1',\n",
       " 'Kasaboushi',\n",
       " 'TylerSmelcer',\n",
       " 'ZanderZhao2020',\n",
       " 'BrayBatCS',\n",
       " 'S-Krom',\n",
       " 'singhari']"
      ]
     },
     "execution_count": 1,
     "metadata": {},
     "output_type": "execute_result"
    }
   ],
   "source": [
    "students = \"\"\"ad1tyad3sa1\n",
    "whizoji\n",
    "Alek1224\n",
    "angeldiazsems\n",
    "singhari\n",
    "Pangw1n\n",
    "cfredberg\n",
    "DerenDesign\n",
    "Finnsauce\n",
    "gabrionorton98\n",
    "monke7769\n",
    "ishankhandekar\n",
    "JamesQian123\n",
    "jpanusopone\n",
    "jayh80961\n",
    "itjey\n",
    "CookieDoughYum\n",
    "therealkingcob4\n",
    "PowerSpy\n",
    "SophiaRosa1\n",
    "Kasaboushi\n",
    "TylerSmelcer\n",
    "ZanderZhao2020\n",
    "BrayBatCS\n",
    "S-Krom\n",
    "singhari\"\"\".splitlines()\n",
    "\n",
    "students\n"
   ]
  },
  {
   "cell_type": "code",
   "execution_count": 2,
   "id": "a7b5554d",
   "metadata": {},
   "outputs": [],
   "source": [
    "team_url='https://github.com/orgs/League-Labs/teams/labs0625'"
   ]
  },
  {
   "cell_type": "code",
   "execution_count": 5,
   "id": "4aabdde1",
   "metadata": {},
   "outputs": [
    {
     "name": "stdout",
     "output_type": "stream",
     "text": [
      "GitHub token is set in environment. GitHub CLI will use this automatically.\n",
      "No explicit authentication needed.\n"
     ]
    }
   ],
   "source": [
    "import os\n",
    "\n",
    "# Check if GitHub token is set in environment\n",
    "github_token = os.environ.get('GITHUB_TOKEN')\n",
    "if github_token:\n",
    "    print(\"GitHub token is set in environment. GitHub CLI will use this automatically.\")\n",
    "    print(\"No explicit authentication needed.\")\n",
    "else:\n",
    "    print(\"Warning: GITHUB_TOKEN environment variable is not set\")\n",
    "    print(\"You may need to run 'gh auth login' manually\")"
   ]
  },
  {
   "cell_type": "code",
   "execution_count": 8,
   "id": "6c58de04",
   "metadata": {},
   "outputs": [
    {
     "name": "stdout",
     "output_type": "stream",
     "text": [
      "Commands to add 26 students to team labs0625 in organization League-Labs:\n",
      "-----------------------------------------------------------------------\n",
      "After removing duplicates, 25 students will be added.\n",
      "\n",
      "gh api /orgs/League-Labs/teams/labs0625/memberships/Alek1224 --method PUT --field role=member --silent\n",
      "gh api /orgs/League-Labs/teams/labs0625/memberships/Pangw1n --method PUT --field role=member --silent\n",
      "gh api /orgs/League-Labs/teams/labs0625/memberships/JamesQian123 --method PUT --field role=member --silent\n",
      "gh api /orgs/League-Labs/teams/labs0625/memberships/jayh80961 --method PUT --field role=member --silent\n",
      "gh api /orgs/League-Labs/teams/labs0625/memberships/BrayBatCS --method PUT --field role=member --silent\n",
      "gh api /orgs/League-Labs/teams/labs0625/memberships/cfredberg --method PUT --field role=member --silent\n",
      "gh api /orgs/League-Labs/teams/labs0625/memberships/monke7769 --method PUT --field role=member --silent\n",
      "gh api /orgs/League-Labs/teams/labs0625/memberships/ZanderZhao2020 --method PUT --field role=member --silent\n",
      "gh api /orgs/League-Labs/teams/labs0625/memberships/PowerSpy --method PUT --field role=member --silent\n",
      "gh api /orgs/League-Labs/teams/labs0625/memberships/S-Krom --method PUT --field role=member --silent\n",
      "gh api /orgs/League-Labs/teams/labs0625/memberships/angeldiazsems --method PUT --field role=member --silent\n",
      "gh api /orgs/League-Labs/teams/labs0625/memberships/ishankhandekar --method PUT --field role=member --silent\n",
      "gh api /orgs/League-Labs/teams/labs0625/memberships/singhari --method PUT --field role=member --silent\n",
      "gh api /orgs/League-Labs/teams/labs0625/memberships/ad1tyad3sa1 --method PUT --field role=member --silent\n",
      "gh api /orgs/League-Labs/teams/labs0625/memberships/itjey --method PUT --field role=member --silent\n",
      "gh api /orgs/League-Labs/teams/labs0625/memberships/TylerSmelcer --method PUT --field role=member --silent\n",
      "gh api /orgs/League-Labs/teams/labs0625/memberships/whizoji --method PUT --field role=member --silent\n",
      "gh api /orgs/League-Labs/teams/labs0625/memberships/therealkingcob4 --method PUT --field role=member --silent\n",
      "gh api /orgs/League-Labs/teams/labs0625/memberships/CookieDoughYum --method PUT --field role=member --silent\n",
      "gh api /orgs/League-Labs/teams/labs0625/memberships/jpanusopone --method PUT --field role=member --silent\n",
      "gh api /orgs/League-Labs/teams/labs0625/memberships/Kasaboushi --method PUT --field role=member --silent\n",
      "gh api /orgs/League-Labs/teams/labs0625/memberships/SophiaRosa1 --method PUT --field role=member --silent\n",
      "gh api /orgs/League-Labs/teams/labs0625/memberships/DerenDesign --method PUT --field role=member --silent\n",
      "gh api /orgs/League-Labs/teams/labs0625/memberships/gabrionorton98 --method PUT --field role=member --silent\n",
      "gh api /orgs/League-Labs/teams/labs0625/memberships/Finnsauce --method PUT --field role=member --silent\n"
     ]
    }
   ],
   "source": [
    "import os\n",
    "\n",
    "# Extract team name from URL\n",
    "team_name = team_url.split('/')[-1]\n",
    "org_name = team_url.split('/')[-3]\n",
    "\n",
    "print(f\"Commands to add {len(students)} students to team {team_name} in organization {org_name}:\")\n",
    "print(\"-----------------------------------------------------------------------\")\n",
    "\n",
    "# Remove duplicate students (singhari appears twice in the list)\n",
    "unique_students = list(set(students))\n",
    "print(f\"After removing duplicates, {len(unique_students)} students will be added.\")\n",
    "print()\n",
    "\n",
    "# Generate the commands for each student\n",
    "for student in unique_students:\n",
    "    # Format the GitHub CLI command\n",
    "    command = f\"gh api /orgs/{org_name}/teams/{team_name}/memberships/{student} --method PUT --field role=member --silent\"\n",
    "\n",
    "    print(command)\n",
    "\n",
    "\n"
   ]
  },
  {
   "cell_type": "code",
   "execution_count": null,
   "id": "86325524",
   "metadata": {},
   "outputs": [],
   "source": []
  }
 ],
 "metadata": {
  "kernelspec": {
   "display_name": "Python 3",
   "language": "python",
   "name": "python3"
  },
  "language_info": {
   "codemirror_mode": {
    "name": "ipython",
    "version": 3
   },
   "file_extension": ".py",
   "mimetype": "text/x-python",
   "name": "python",
   "nbconvert_exporter": "python",
   "pygments_lexer": "ipython3",
   "version": "3.12.10"
  }
 },
 "nbformat": 4,
 "nbformat_minor": 5
}
